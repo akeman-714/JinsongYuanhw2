{
 "cells": [
  {
   "cell_type": "markdown",
   "id": "8bb56943-ce8a-4fe6-93a7-0d817fe4b6b4",
   "metadata": {},
   "source": [
    "q1"
   ]
  },
  {
   "cell_type": "code",
   "execution_count": 1,
   "id": "3f207540-069a-4845-b421-037ae6e8e627",
   "metadata": {},
   "outputs": [],
   "source": [
    "import findspark\n",
    "findspark.init()\n",
    "findspark.find()\n",
    "import pyspark\n",
    "from pyspark.sql import SparkSession\n",
    "from pyspark import SparkContext,SQLContext"
   ]
  },
  {
   "cell_type": "code",
   "execution_count": 2,
   "id": "07722bdd-5ee2-4d95-8116-145a21c41a90",
   "metadata": {},
   "outputs": [
    {
     "name": "stderr",
     "output_type": "stream",
     "text": [
      "C:\\spark\\spark-3.5.2-bin-hadoop3\\python\\pyspark\\sql\\context.py:113: FutureWarning: Deprecated in 3.0.0. Use SparkSession.builder.getOrCreate() instead.\n",
      "  warnings.warn(\n"
     ]
    }
   ],
   "source": [
    "appName= 'homework2'\n",
    "master= 'local'\n",
    "conf=pyspark.SparkConf()\\\n",
    "    .set('spark.driver.host','127.0.0.1')\\\n",
    "    .setAppName(appName)\\\n",
    "    .setMaster(master)\n",
    "sc=SparkContext.getOrCreate(conf=conf)\n",
    "sqlContext=SQLContext(sc)\n",
    "spark=sqlContext.sparkSession.builder.getOrCreate()"
   ]
  },
  {
   "cell_type": "markdown",
   "id": "154337d4-9dfc-4715-88ea-767a4705554e",
   "metadata": {},
   "source": [
    "structure"
   ]
  },
  {
   "cell_type": "code",
   "execution_count": 34,
   "id": "79b3a75b-6040-4b3a-a792-3883b09f81e9",
   "metadata": {},
   "outputs": [],
   "source": [
    "db_properties={}\n",
    "db_properties['username']=\"postgres\"\n",
    "db_properties['password']=\"714179\"\n",
    "db_properties['url']= \"jdbc:postgresql://localhost:5432/postgres\"\n",
    "db_properties['table']=\"news.intrusion\"\n",
    "db_properties['driver']=\"org.postgresql.Driver\"\n"
   ]
  },
  {
   "cell_type": "markdown",
   "id": "31dbe432-6cbf-42cc-9c9c-4632609a8690",
   "metadata": {},
   "source": [
    "create schema in pgadmin. Coding refers to q1.sql"
   ]
  },
  {
   "cell_type": "markdown",
   "id": "135ceac1-1f16-4106-a07e-7b79cf3ab79a",
   "metadata": {},
   "source": [
    "q2"
   ]
  },
  {
   "cell_type": "code",
   "execution_count": 9,
   "id": "50cbd772-df92-46f6-9a70-212a3aa67429",
   "metadata": {},
   "outputs": [
    {
     "name": "stdout",
     "output_type": "stream",
     "text": [
      "Collecting pandas\n",
      "  Downloading pandas-2.2.2-cp39-cp39-win_amd64.whl.metadata (19 kB)\n",
      "Requirement already satisfied: numpy>=1.22.4 in c:\\users\\25353\\anaconda3\\envs\\env1\\lib\\site-packages (from pandas) (1.26.4)\n",
      "Requirement already satisfied: python-dateutil>=2.8.2 in c:\\users\\25353\\anaconda3\\envs\\env1\\lib\\site-packages (from pandas) (2.9.0.post0)\n",
      "Collecting pytz>=2020.1 (from pandas)\n",
      "  Downloading pytz-2024.1-py2.py3-none-any.whl.metadata (22 kB)\n",
      "Collecting tzdata>=2022.7 (from pandas)\n",
      "  Downloading tzdata-2024.1-py2.py3-none-any.whl.metadata (1.4 kB)\n",
      "Requirement already satisfied: six>=1.5 in c:\\users\\25353\\anaconda3\\envs\\env1\\lib\\site-packages (from python-dateutil>=2.8.2->pandas) (1.16.0)\n",
      "Downloading pandas-2.2.2-cp39-cp39-win_amd64.whl (11.6 MB)\n",
      "   ---------------------------------------- 0.0/11.6 MB ? eta -:--:--\n",
      "   ----------------------- ---------------- 6.8/11.6 MB 38.1 MB/s eta 0:00:01\n",
      "   ---------------------------------------- 11.6/11.6 MB 38.3 MB/s eta 0:00:00\n",
      "Downloading pytz-2024.1-py2.py3-none-any.whl (505 kB)\n",
      "Downloading tzdata-2024.1-py2.py3-none-any.whl (345 kB)\n",
      "Installing collected packages: pytz, tzdata, pandas\n",
      "Successfully installed pandas-2.2.2 pytz-2024.1 tzdata-2024.1\n",
      "Note: you may need to restart the kernel to use updated packages.\n"
     ]
    }
   ],
   "source": [
    "pip install pandas"
   ]
  },
  {
   "cell_type": "code",
   "execution_count": 10,
   "id": "0a506bed-a972-426b-a823-5ecec82f1c99",
   "metadata": {},
   "outputs": [
    {
     "name": "stdout",
     "output_type": "stream",
     "text": [
      "                                               title  \\\n",
      "0  Agentic AI: The Next Big Breakthrough That's T...   \n",
      "1  Brown Discusses Role of Technology in Attracti...   \n",
      "2  Miami Heat: the basketball team turned tech st...   \n",
      "3  New iPhone will use Arm’s chip technology for ...   \n",
      "4  Apple’s new iPhone will use Arm’s next-generat...   \n",
      "\n",
      "                                                link  \\\n",
      "0  https://news.google.com/rss/articles/CBMizAFBV...   \n",
      "1  https://news.google.com/rss/articles/CBMixAFBV...   \n",
      "2  https://news.google.com/rss/articles/CBMilAFBV...   \n",
      "3  https://news.google.com/rss/articles/CBMiowFBV...   \n",
      "4  https://news.google.com/rss/articles/CBMicEFVX...   \n",
      "\n",
      "                                                guid  \\\n",
      "0  CBMizAFBVV95cUxNMTdfZFhiNkhBRUlmZXJ6ek1QWG5KZl...   \n",
      "1  CBMixAFBVV95cUxOTXBBMEIwLU45RGwybHBBbnNnQjFkZU...   \n",
      "2  CBMilAFBVV95cUxNUnpKRnY3WkkteGE2ZG1Bb2VTTm9sM0...   \n",
      "3  CBMiowFBVV95cUxNVF8wWVNleVVCdjVhSzF1ZjB4VE1udH...   \n",
      "4  CBMicEFVX3lxTFA2bGZrbmhTb2FKTF9zeURoNHpPME83NG...   \n",
      "\n",
      "                         pubDate  \\\n",
      "0  Fri, 06 Sep 2024 05:50:30 GMT   \n",
      "1  Thu, 05 Sep 2024 19:24:16 GMT   \n",
      "2  Fri, 06 Sep 2024 22:06:30 GMT   \n",
      "3  Sat, 07 Sep 2024 08:54:00 GMT   \n",
      "4  Sat, 07 Sep 2024 08:00:55 GMT   \n",
      "\n",
      "                                         description                 source  \n",
      "0  <a href=\"https://news.google.com/rss/articles/...                 Forbes  \n",
      "1  <a href=\"https://news.google.com/rss/articles/...  Department of Defense  \n",
      "2  <a href=\"https://news.google.com/rss/articles/...                BBC.com  \n",
      "3  <a href=\"https://news.google.com/rss/articles/...                Reuters  \n",
      "4  <a href=\"https://news.google.com/rss/articles/...        Financial Times  \n"
     ]
    }
   ],
   "source": [
    "import pandas as pd\n",
    "rss_url='https://news.google.com/rss/search?q=technology&hl=en-US&gl=US&ceid=US:en'\n",
    "df=pd.read_xml(rss_url,xpath='//item')\n",
    "print(df.head())"
   ]
  },
  {
   "cell_type": "code",
   "execution_count": 22,
   "id": "9894fdd0-dc8b-45c4-b549-d7da9b82eb52",
   "metadata": {},
   "outputs": [],
   "source": [
    "with open(\"insertscipt.sql\", \"w\", encoding='utf-8') as f:\n",
    "    for index, row in df.iterrows():\n",
    "        title = row['title'].replace(\"'\", \"''\")\n",
    "        link = row['link'].replace(\"'\", \"''\")\n",
    "        pubDate = row['pubDate'].replace(\"'\", \"''\")\n",
    "        description = row['description'].replace(\"'\", \"''\")\n",
    "        source = row['source'].replace(\"'\", \"''\")\n",
    "        f.write(f\"INSERT INTO news.intrusion (title, link, pubDate, description, source) \"\n",
    "                f\"VALUES ('{title}', '{link}', '{pubDate}', '{description}', '{source}');\\n\")\n"
   ]
  },
  {
   "cell_type": "markdown",
   "id": "6b9b8f28-65b7-47cb-a975-24a8b0384d93",
   "metadata": {},
   "source": [
    "random 5 reseults refer to q2.png"
   ]
  },
  {
   "cell_type": "markdown",
   "id": "6c13a65b-307d-479b-801e-c7b13fdea439",
   "metadata": {},
   "source": [
    "data populating refers to q2.sql"
   ]
  },
  {
   "cell_type": "markdown",
   "id": "7468937a-3293-44ce-9913-0741d3208bb8",
   "metadata": {},
   "source": [
    "q3"
   ]
  },
  {
   "cell_type": "markdown",
   "id": "6fd43f8d-4184-439e-8ea5-348cd84e4f36",
   "metadata": {},
   "source": [
    "last 24h coding refers to q3.sql"
   ]
  },
  {
   "cell_type": "markdown",
   "id": "c73b4ccd-38c3-41cc-9fba-e5bda7c24273",
   "metadata": {},
   "source": [
    "output refers to q3_2.png and q3_1.png"
   ]
  },
  {
   "cell_type": "markdown",
   "id": "f30081ec-6c25-4b51-a114-599816b1cee5",
   "metadata": {},
   "source": [
    "q4"
   ]
  },
  {
   "cell_type": "markdown",
   "id": "eaef75d9-89c1-4ed3-95ad-83a195c164cc",
   "metadata": {},
   "source": [
    "category creating and pre-populating refer to q4_3.sql"
   ]
  },
  {
   "cell_type": "code",
   "execution_count": 26,
   "id": "8289b47e-8e5c-4192-80ba-9bb2fcabc138",
   "metadata": {},
   "outputs": [],
   "source": [
    "\n",
    "rss_url='https://news.google.com/rss/search?q=business&hl=en-US&gl=US&ceid=US:en'\n",
    "df1=pd.read_xml(rss_url,xpath='//item')\n",
    "df1['category']='bussiness'\n",
    "with open(\"insertscipt1.sql\", \"w\", encoding='utf-8') as f:\n",
    "    for index, row in df1.iterrows():\n",
    "        title = row['title'].replace(\"'\", \"''\")\n",
    "        link = row['link'].replace(\"'\", \"''\")\n",
    "        pubDate = row['pubDate'].replace(\"'\", \"''\")\n",
    "        description = row['description'].replace(\"'\", \"''\")\n",
    "        source = row['source'].replace(\"'\", \"''\")\n",
    "        f.write(f\"INSERT INTO news.intrusion (title, link, pubDate, description, source,category) \"\n",
    "                f\"VALUES ('{title}', '{link}', '{pubDate}', '{description}', '{source}','{row.category}');\\n\")"
   ]
  },
  {
   "cell_type": "code",
   "execution_count": 27,
   "id": "e584acac-6825-431a-83ec-db27de40698f",
   "metadata": {},
   "outputs": [],
   "source": [
    "rss_url='https://news.google.com/rss/search?q=sports&hl=en-US&gl=US&ceid=US:en'\n",
    "df2=pd.read_xml(rss_url,xpath='//item')\n",
    "df2['category']='sports'\n",
    "with open(\"insertscipt2.sql\", \"w\", encoding='utf-8') as f:\n",
    "    for index, row in df2.iterrows():\n",
    "        title = row['title'].replace(\"'\", \"''\")\n",
    "        link = row['link'].replace(\"'\", \"''\")\n",
    "        pubDate = row['pubDate'].replace(\"'\", \"''\")\n",
    "        description = row['description'].replace(\"'\", \"''\")\n",
    "        source = row['source'].replace(\"'\", \"''\")\n",
    "        f.write(f\"INSERT INTO news.intrusion (title, link, pubDate, description, source,category) \"\n",
    "                f\"VALUES ('{title}', '{link}', '{pubDate}', '{description}', '{source}','{row.category}');\\n\")"
   ]
  },
  {
   "cell_type": "markdown",
   "id": "41480e7a-60e1-4748-beff-973eab5027ba",
   "metadata": {},
   "source": [
    "data populating refers to q4_1.sql and q4_2.sql"
   ]
  },
  {
   "cell_type": "markdown",
   "id": "58f8c349-3ac6-4d74-863a-fc694d263276",
   "metadata": {},
   "source": [
    "distinct query"
   ]
  },
  {
   "cell_type": "code",
   "execution_count": 28,
   "id": "37717c19-de8d-4b65-a183-8f7cac585643",
   "metadata": {},
   "outputs": [],
   "source": [
    "df_read = sqlContext.read.format(\"jdbc\")\\\n",
    "    .option(\"url\", db_properties['url'])\\\n",
    "    .option(\"dbtable\", db_properties['table'])\\\n",
    "    .option(\"user\", db_properties['username'])\\\n",
    "    .option(\"password\", db_properties['password'])\\\n",
    "    .option(\"Driver\", db_properties['driver'])\\\n",
    "    .load()"
   ]
  },
  {
   "cell_type": "code",
   "execution_count": 30,
   "id": "d44d27a0-efed-41a2-a4d9-af2b2c077284",
   "metadata": {},
   "outputs": [
    {
     "name": "stdout",
     "output_type": "stream",
     "text": [
      "+----------+\n",
      "|  category|\n",
      "+----------+\n",
      "|technology|\n",
      "| bussiness|\n",
      "|    sports|\n",
      "+----------+\n",
      "\n"
     ]
    }
   ],
   "source": [
    "df_read.select(\"category\").distinct().show(40)"
   ]
  },
  {
   "cell_type": "markdown",
   "id": "c4e2a894-bd9b-4dd5-bbd9-78996a5198bd",
   "metadata": {},
   "source": [
    "q5"
   ]
  },
  {
   "cell_type": "markdown",
   "id": "81b7e517-ec27-46e3-bf7c-29ca62b69a2c",
   "metadata": {},
   "source": [
    "coding refers to q5.sql\n",
    "\n",
    "output refers to q5.png"
   ]
  },
  {
   "cell_type": "markdown",
   "id": "77f4d61f-90b2-4359-96e2-ff4c29250741",
   "metadata": {},
   "source": [
    "q6"
   ]
  },
  {
   "cell_type": "markdown",
   "id": "3c860fb9-8d7a-47f5-b8c0-a29b91dc1b5c",
   "metadata": {},
   "source": [
    "refers to q6.png"
   ]
  },
  {
   "cell_type": "code",
   "execution_count": null,
   "id": "c36ab04b-f4dd-4463-97b4-007c892d64b9",
   "metadata": {},
   "outputs": [],
   "source": []
  }
 ],
 "metadata": {
  "kernelspec": {
   "display_name": "Python 3 (ipykernel)",
   "language": "python",
   "name": "python3"
  },
  "language_info": {
   "codemirror_mode": {
    "name": "ipython",
    "version": 3
   },
   "file_extension": ".py",
   "mimetype": "text/x-python",
   "name": "python",
   "nbconvert_exporter": "python",
   "pygments_lexer": "ipython3",
   "version": "3.9.18"
  }
 },
 "nbformat": 4,
 "nbformat_minor": 5
}
